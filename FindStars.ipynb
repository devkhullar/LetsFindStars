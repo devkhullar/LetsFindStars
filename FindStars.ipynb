{
 "cells": [
  {
   "cell_type": "markdown",
   "id": "4e7ed4a6",
   "metadata": {},
   "source": [
    "# Find Stars with Photutils &#x2728;\n",
    "The main goal of this part of the workshop is to detect point sources (some of which will be stars, black holes, neutron stars, star clusters, Active Galactic Nuclei, you name it!) in an astronomical image with the `DAOStarFinder` algorithm and then extract their photometry.\n",
    "\n",
    "## A little about the algorithm in play\n",
    "\n",
    "1. Estimating FWHM (`RadialProfile` or `fit_fwhm`)\n",
    "2. Background Estimation\n",
    "3. Point Source Detection (Finding stars)\n",
    "4. Aperture Photometry\n",
    "5. Your turn!\n",
    "6. Use case of DaoStarFinder"
   ]
  },
  {
   "cell_type": "code",
   "execution_count": null,
   "id": "237455ff",
   "metadata": {},
   "outputs": [],
   "source": [
    "import matplotlib.pyplot as plt\n",
    "import numpy as np"
   ]
  },
  {
   "cell_type": "code",
   "execution_count": null,
   "id": "2258b2fd",
   "metadata": {},
   "outputs": [],
   "source": [
    "# pip install astropy           # uncomment to install astropy and photutils\n",
    "# pip install photutils"
   ]
  },
  {
   "cell_type": "markdown",
   "id": "416ac8b9",
   "metadata": {},
   "source": [
    "# 1. Estimating FWHM"
   ]
  },
  {
   "cell_type": "markdown",
   "id": "a4fbe7b5",
   "metadata": {},
   "source": [
    "## using `RadialProfile`\n",
    "measuring surface brightness against increasing aperture radius"
   ]
  },
  {
   "cell_type": "code",
   "execution_count": null,
   "id": "d8ae3524",
   "metadata": {},
   "outputs": [],
   "source": [
    "from astropy.modeling.models import Gaussian2D              # to create a 2D gaussian\n",
    "from astropy.visualization import simple_norm               # for image normalization\n",
    "from photutils.datasets import make_noise_image             # to create a noisy image"
   ]
  },
  {
   "cell_type": "code",
   "execution_count": null,
   "id": "6a8a2417",
   "metadata": {},
   "outputs": [],
   "source": [
    "# create an artificial single source\n",
    "gmodel = Gaussian2D(amplitude=42.1,\n",
    "                    x_mean=47.8, \n",
    "                    y_mean=52.4, \n",
    "                    x_stddev=4.7, \n",
    "                    y_stddev=4.7, \n",
    "                    theta=0)       # rotational angle\n",
    "yy, xx = np.mgrid[0:100, 0:100]\n",
    "data = gmodel(xx, yy)\n",
    "bkg_sig = 2.4\n",
    "noise = make_noise_image(data.shape, mean=0., stddev=bkg_sig, seed=123)\n",
    "\n",
    "# Add noise to the data\n",
    "data += noise\n",
    "error = np.zeros_like(data) + bkg_sig\n",
    "\n",
    "norm = simple_norm(data, 'sqrt')\n",
    "plt.imshow(data, origin='lower', norm=norm)"
   ]
  },
  {
   "cell_type": "code",
   "execution_count": null,
   "id": "f6ae44d2",
   "metadata": {},
   "outputs": [],
   "source": [
    "from photutils.centroids import centroid_quadratic          # to get the centroid position of the gaussian\n",
    "from photutils.profiles import RadialProfile                \n",
    "\n",
    "# find the source centroid\n",
    "xycen = centroid_quadratic(data, xpeak=48, ypeak=52)\n",
    "\n",
    "# create the radial profile\n",
    "edge_radii = np.arange(26)\n",
    "rp = RadialProfile(data, xycen, edge_radii, error=error, mask=None)\n",
    "\n",
    "norm = simple_norm(data, 'sqrt')\n",
    "fig, ax = plt.subplots(figsize=(5, 5))\n",
    "ax.imshow(data, norm=norm, origin='lower')\n",
    "rp.apertures[5].plot(ax=ax, color='C0', lw=2)\n",
    "rp.apertures[10].plot(ax=ax, color='C1', lw=2)\n",
    "rp.apertures[15].plot(ax=ax, color='C3', lw=2)\n",
    "rp.apertures[24].plot(ax=ax, color='C4', lw=2)\n",
    "plt.show()"
   ]
  },
  {
   "cell_type": "code",
   "execution_count": null,
   "id": "fc7e3fbc",
   "metadata": {},
   "outputs": [],
   "source": [
    "# plot the radial profile\n",
    "fig, ax = plt.subplots(figsize=(8, 6))\n",
    "rp.plot(ax=ax, color='C0')\n",
    "rp.plot_error(ax=ax)\n",
    "ax.scatter(rp.data_radius, rp.data_profile, s=1, color='C1')\n",
    "plt.show()"
   ]
  },
  {
   "cell_type": "markdown",
   "id": "1ed0ffff",
   "metadata": {},
   "source": [
    "## using `fit_fwhm`"
   ]
  },
  {
   "cell_type": "code",
   "execution_count": null,
   "id": "2c9f7de4",
   "metadata": {},
   "outputs": [],
   "source": [
    "from photutils.psf import fit_fwhm\n",
    "\n",
    "# Find the fwhm\n",
    "fwhm = fit_fwhm(data, fit_shape=99)\n",
    "print(f\"fwhm is {fwhm}\")"
   ]
  },
  {
   "cell_type": "markdown",
   "id": "9c27e2f2",
   "metadata": {},
   "source": [
    "# 2. Background Estimation\n",
    "\n",
    "Photutils provides some tools for estimating the background and the background noise in astronomical data. Background as well as background noise estimation are both very difficult tasks but are also required for a variety of purposes:\n",
    "1. to measure the photometry of an astronomical source\n",
    "2. to measure the morphological properties (shapes and structures) of astronomical sources\n",
    "3. to determine the significance of the objects that you find in an astrnomical image\n",
    "4. for estimating photometric errors of the those objects\n",
    "\n",
    "For today's workshop, we are mostly interested in points (1), (3) and (4)"
   ]
  },
  {
   "cell_type": "markdown",
   "id": "f1856029",
   "metadata": {},
   "source": [
    "## Sigma Clipping sources\n",
    "\n",
    "It is a reliable and the most widely used technique for background estimation due to the calculations involved. It is used for images where the background and the background noise are relatively constant throughout the image. Pixels that are above or below a specified sigma level from the median are discarded and the statistics are recalculated."
   ]
  },
  {
   "cell_type": "code",
   "execution_count": null,
   "id": "5fd59c1c",
   "metadata": {},
   "outputs": [],
   "source": [
    "from photutils.datasets import make_100gaussians_image\n",
    "from astropy.stats import sigma_clipped_stats"
   ]
  },
  {
   "cell_type": "code",
   "execution_count": null,
   "id": "3c1ac3e0",
   "metadata": {},
   "outputs": [],
   "source": [
    "data = make_100gaussians_image(noise=True)\n",
    "mean, median, std = sigma_clipped_stats(data, sigma=3.0)   # std is important for the right threshold when detecting point sources\n",
    "print(f\"Mean: {mean}\\nMedian: {median}\\nStd: {std}\")      \n",
    "plt.imshow(data, origin='lower', vmax=40)\n",
    "plt.show()"
   ]
  },
  {
   "cell_type": "markdown",
   "id": "4191dc42",
   "metadata": {},
   "source": [
    "## 2D Background and Noise Estimation\n",
    "\n",
    "If the background or the background noise is not constant throughout the image, which is what you see with galactic datasets, we generate a 2D image of the background and the background RMS (aka noise). "
   ]
  },
  {
   "cell_type": "code",
   "execution_count": null,
   "id": "3a7feee0",
   "metadata": {},
   "outputs": [],
   "source": [
    "from astropy.stats import SigmaClip\n",
    "from photutils.background import Background2D, MedianBackground\n",
    "\n",
    "sigma_clip = SigmaClip(sigma=3.0)    # will iterate over the data, each time rejecting values\n",
    "                                     # that are less or more than the specified std\n",
    "bkg_estimator = MedianBackground()   # Calculate background in an array\n",
    "\n",
    "# Estimate background and background noise\n",
    "bkg = Background2D(data, (50, 50), filter_size=(3, 3),\n",
    "                   sigma_clip=sigma_clip, bkg_estimator=bkg_estimator)"
   ]
  },
  {
   "cell_type": "code",
   "execution_count": null,
   "id": "d48521ee",
   "metadata": {},
   "outputs": [],
   "source": [
    "fig, ax = plt.subplots(nrows=1, ncols=2, figsize=(10, 10))\n",
    "ax[0].imshow(data, origin='lower', vmax=40, cmap='Greys')\n",
    "ax[0].set_title('Original image')\n",
    "ax[1].imshow(data-bkg.background, origin='lower', cmap='Greys', interpolation='nearest', vmax=40)\n",
    "ax[1].set_title('Background subtracted image')\n",
    "plt.show()"
   ]
  },
  {
   "cell_type": "markdown",
   "id": "cdb060f3",
   "metadata": {},
   "source": [
    "This was just a few of the many options for background subtraction provided by photutils. For more information on the available options for background subtraction, see this [page](https://photutils.readthedocs.io/en/stable/user_guide/background.html#d-background-and-noise-estimation). "
   ]
  },
  {
   "cell_type": "markdown",
   "id": "2f1c59ef",
   "metadata": {},
   "source": [
    "# 3. Point Source Identification\n",
    "\n",
    "Now, that we have the fwhm and we know how to estimate the background, we have the tools needed for point source identification. Let's see this with an example image."
   ]
  },
  {
   "cell_type": "code",
   "execution_count": null,
   "id": "4e1e4e86",
   "metadata": {},
   "outputs": [],
   "source": [
    "from photutils.datasets import load_star_image\n",
    "\n",
    "image = load_star_image()"
   ]
  },
  {
   "cell_type": "code",
   "execution_count": null,
   "id": "82c9ea05",
   "metadata": {},
   "outputs": [],
   "source": [
    "plt.imshow(image.data, origin='lower', interpolation='nearest')"
   ]
  },
  {
   "cell_type": "markdown",
   "id": "c9a04b93",
   "metadata": {},
   "source": [
    "My general strategy with point source identification of all the sources in the galaxy is to perform the point source identifcation on the subset of the image and see if the code identifies all the obvious sources in the data."
   ]
  },
  {
   "cell_type": "code",
   "execution_count": null,
   "id": "49596e15",
   "metadata": {},
   "outputs": [],
   "source": [
    "# Look at subset image\n",
    "data = image.data[0:401, 0:401]\n",
    "plt.imshow(data, origin='lower')"
   ]
  },
  {
   "cell_type": "code",
   "execution_count": null,
   "id": "29390664",
   "metadata": {},
   "outputs": [],
   "source": [
    "from photutils.detection import DAOStarFinder\n",
    "\n",
    "mean, median, std = sigma_clipped_stats(data, sigma=3.0)       # can vary sigma depending upon the data\n",
    "fwhm = 3.0\n",
    "threshold= 3 * std\n",
    "daofind = DAOStarFinder(fwhm=fwhm, threshold=threshold)\n",
    "sources = daofind(data)\n",
    "positions = np.transpose((sources['xcentroid'], sources['ycentroid']))\n",
    "print(f\"Found {len(positions)} sources...\")"
   ]
  },
  {
   "cell_type": "markdown",
   "id": "64cd2dd1",
   "metadata": {},
   "source": [
    "There are many options available for the shapes of apertures. For more info on the apertures available, see this  [page](https://photutils.readthedocs.io/en/stable/user_guide/aperture.html#apertures)."
   ]
  },
  {
   "cell_type": "code",
   "execution_count": null,
   "id": "f8f6e609",
   "metadata": {},
   "outputs": [],
   "source": [
    "from astropy.visualization import SqrtStretch\n",
    "from astropy.visualization.mpl_normalize import ImageNormalize\n",
    "from photutils.aperture import CircularAperture\n",
    "\n",
    "apertures = CircularAperture(positions, r=4.0)\n",
    "norm = ImageNormalize(stretch=SqrtStretch())\n",
    "plt.imshow(data, cmap='Greys', origin='lower', norm=norm,\n",
    "           interpolation='nearest')\n",
    "apertures.plot(color='blue', lw=1.5, alpha=0.5)\n",
    "plt.show()"
   ]
  },
  {
   "cell_type": "markdown",
   "id": "7a22f352",
   "metadata": {},
   "source": [
    "# 4. Aperture Photometry\n",
    "\n",
    "Now, while we are at it and we have found the point sources in the image, we might as well get their photometry as well..."
   ]
  },
  {
   "cell_type": "code",
   "execution_count": null,
   "id": "0f31895f",
   "metadata": {},
   "outputs": [],
   "source": [
    "# Generate a background substracted image\n",
    "sigma_clip = SigmaClip(sigma=5.)\n",
    "bkg_estimator = MedianBackground()\n",
    "bkg = Background2D(data, (50, 50), filter_size=(3, 3),\n",
    "                   sigma_clip=sigma_clip,\n",
    "                   bkg_estimator=bkg_estimator)\n",
    "data_sub = data - bkg.background\n",
    "\n",
    "# Take a look at the backgroudn subtracted data\n",
    "plt.imshow(data_sub, cmap='Greys', origin='lower', norm=norm,\n",
    "           interpolation='nearest')"
   ]
  },
  {
   "cell_type": "markdown",
   "id": "dc38dfef",
   "metadata": {},
   "source": [
    "A note on aperture photometry before we move on..."
   ]
  },
  {
   "cell_type": "code",
   "execution_count": null,
   "id": "bcf92e3b",
   "metadata": {},
   "outputs": [],
   "source": [
    "from starfind import make_aperture_image\n",
    "\n",
    "make_aperture_image()"
   ]
  },
  {
   "cell_type": "code",
   "execution_count": null,
   "id": "db77256c",
   "metadata": {},
   "outputs": [],
   "source": [
    "from photutils.aperture import aperture_photometry\n",
    "\n",
    "ap_radii = [i for i in range(1, 31)]\n",
    "apertures = [CircularAperture(positions, r=r) for r in ap_radii]\n",
    "\n",
    "# always use background subtracted data when doing photometry\n",
    "photometry = aperture_photometry(data_sub, apertures)\n",
    "\n",
    "display(photometry)"
   ]
  },
  {
   "cell_type": "markdown",
   "id": "9459b89a",
   "metadata": {},
   "source": [
    "# 5. Your turn! \n",
    "\n",
    "Now, this is your chance to implement the `DAOStarFinder` algorithm in another example image. \n",
    "\n",
    "Use the function `find_stars` below to properly detect most (if not all) the point sources in the image. Try playing around with the `fwhm` and the `std_multiple` to see how they affect your results. If the code still does not correctly identify the obvious point sources, try tweaking the `threshold` parameter then. "
   ]
  },
  {
   "cell_type": "code",
   "execution_count": null,
   "id": "de2b486a",
   "metadata": {},
   "outputs": [],
   "source": [
    "def find_stars(data,\n",
    "               fwhm,\n",
    "               threshold=None, \n",
    "               sigma=5, \n",
    "               radius=5, \n",
    "               cmap='gray_r', \n",
    "               vmin=0, \n",
    "               vmax=10, \n",
    "               std_multiple=5, \n",
    "               aperture_color='#0547f9', \n",
    "               plot=True,\n",
    "               photometry=True):\n",
    "    \"\"\"\n",
    "    Find point sources in an image using the DAOStarFinder algorithm and then plot apertures \n",
    "    around the objects. If `photometry=True`, the code will return the photometric measurements as well.\n",
    "\n",
    "    PARAMETERS\n",
    "    ----------\n",
    "    data : data\n",
    "        Data\n",
    "    fwhm : float\n",
    "        Full Width at Half Maximum of a star in arcseconds. \n",
    "        This code will automatically convert the fwhm from \n",
    "        arcseconds to pixels.\n",
    "    threshold : float\n",
    "        If specified, it will override the threshold to be\n",
    "        used for identifying stars. Otherwise, the threshold\n",
    "        is used as a multiple of the standard deviation found\n",
    "        through the sigma clipped statistics on the data.\n",
    "    sigma : int, default=5\n",
    "        sigma to be used for finding the standard deviation.\n",
    "    conversion : float, default=0.031\n",
    "        The convesion from arcseconds to pixel.\n",
    "        Default is 0.031 for JWST NIRCam short wavelength\n",
    "        filters.\n",
    "    radius : float, default=5 \n",
    "        Radius of the aperture to be applied on the sources\n",
    "        detected. Default is 5.\n",
    "    cmap : string, default='viridis'\n",
    "        Colour map to be used when plotting the image. Default \n",
    "        is viridis. \n",
    "    aperture_color : string, default='limegreen'\n",
    "        The color of the apertures.\n",
    "\n",
    "    RETURN\n",
    "    ------\n",
    "    positions : np.arrays\n",
    "        The positions of the point sources.\n",
    "        Also plots the apertures around the point \n",
    "        sources on the image. \n",
    "        \"\"\"\n",
    "    mean, median, std = sigma_clipped_stats(data, sigma=sigma)\n",
    "\n",
    "    # If threshold is provided manually.\n",
    "    if threshold:\n",
    "        daofind = DAOStarFinder(fwhm=fwhm, threshold=threshold)\n",
    "        objects = daofind(data)\n",
    "    else:\n",
    "        daofind = DAOStarFinder(fwhm=fwhm, threshold=std_multiple*std)\n",
    "        objects = daofind(data)\n",
    "\n",
    "    print(\"Found\", len(objects), \"objects.\")\n",
    "    positions = np.transpose((objects[\"xcentroid\"], objects[\"ycentroid\"]))\n",
    "\n",
    "    # Create apertures around sources\n",
    "    if plot:\n",
    "        apertures = CircularAperture(positions, r=radius)\n",
    "        plt.imshow(data,\n",
    "                   cmap=cmap, \n",
    "                   vmin=vmin, \n",
    "                   vmax=vmax, \n",
    "                   origin='lower',\n",
    "                   interpolation='nearest')\n",
    "        apertures.plot(color=aperture_color)\n",
    "        plt.show()\n",
    "\n",
    "    if photometry:\n",
    "        # Generate a background substracted image\n",
    "        sigma_clip = SigmaClip(sigma=5.)\n",
    "        bkg_estimator = MedianBackground()\n",
    "        bkg = Background2D(data, (50, 50), filter_size=(3, 3),\n",
    "                        sigma_clip=sigma_clip,\n",
    "                        bkg_estimator=bkg_estimator)\n",
    "        data_sub = data - bkg.background\n",
    "        photometry = aperture_photometry(data_sub, apertures)\n",
    "        print(\"displaying photometry\")\n",
    "        display(photometry)\n"
   ]
  },
  {
   "cell_type": "code",
   "execution_count": null,
   "id": "acd68a28",
   "metadata": {},
   "outputs": [],
   "source": [
    "stars = find_stars(data,\n",
    "           fwhm=3.0,\n",
    "           std_multiple=5.,\n",
    "           photometry=True,\n",
    "           cmap='Greys',\n",
    "           vmax=10000)"
   ]
  },
  {
   "cell_type": "code",
   "execution_count": null,
   "id": "9320f457",
   "metadata": {},
   "outputs": [],
   "source": [
    "# Run this cell to load dataset\n",
    "# it might take a few seconds\n",
    "from photutils.datasets import load_spitzer_image\n",
    "\n",
    "spitzer_image = load_spitzer_image()"
   ]
  },
  {
   "cell_type": "code",
   "execution_count": null,
   "id": "ed4dd136",
   "metadata": {},
   "outputs": [],
   "source": [
    "# Run this cell to print the data image\n",
    "plt.imshow(spitzer_image.data, origin='lower', vmax=65)"
   ]
  },
  {
   "cell_type": "code",
   "execution_count": null,
   "id": "45bb6373",
   "metadata": {},
   "outputs": [],
   "source": [
    "# Remember to analyse the subset of the image first\n",
    "\n",
    "# Plot subset image\n",
    "subset = spitzer_image.data[0:400, 200:600]\n",
    "plt.imshow(subset, origin='lower', vmax=65, cmap='viridis')\n",
    "plt.show()"
   ]
  },
  {
   "cell_type": "code",
   "execution_count": null,
   "id": "de988945",
   "metadata": {},
   "outputs": [],
   "source": [
    "# First try setting fwhm somewhere around 10 and see what you get and go from there\n",
    "find_stars(subset, \n",
    "            fwhm=,\n",
    "            std_multiple=5,    # comment if using threshold\n",
    "           # threshold=,       # comment if using std_multiple\n",
    "           cmap='Greys', \n",
    "           vmax=60)"
   ]
  },
  {
   "cell_type": "markdown",
   "id": "31f9b1f7",
   "metadata": {},
   "source": [
    "# 6. Use cases of the `DAOStarFinder` algorithm\n",
    "\n",
    "1. X-ray binary identification. \n",
    "2. Cataloging and astrometry of astronomical sources.\n",
    "3. Identification of point sources in a galaxy.\n",
    "    1. Identification of star clusters to study gas and star formation -- [Phangs Collaboration](https://sites.google.com/view/phangs/home)\n",
    "4. Identification of galaxies ([skyviewer](https://skyviewer.app/explorer))\n",
    "5. Identification and cataloging of asteroids in the asteroid belts.\n",
    "\n",
    "There's so much science possible with this! With just basic photometry, we can investigate (or estimate) so many additional properties of these astronomical objects, their nature, their mass, their ages, their environment! The possibilities are 'astronomically' endless!"
   ]
  }
 ],
 "metadata": {
  "kernelspec": {
   "display_name": "stenv",
   "language": "python",
   "name": "python3"
  },
  "language_info": {
   "codemirror_mode": {
    "name": "ipython",
    "version": 3
   },
   "file_extension": ".py",
   "mimetype": "text/x-python",
   "name": "python",
   "nbconvert_exporter": "python",
   "pygments_lexer": "ipython3",
   "version": "3.12.10"
  }
 },
 "nbformat": 4,
 "nbformat_minor": 5
}
